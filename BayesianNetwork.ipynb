{
 "cells": [
  {
   "cell_type": "code",
   "execution_count": 1,
   "metadata": {},
   "outputs": [],
   "source": [
    "from pomegranate import *"
   ]
  },
  {
   "cell_type": "code",
   "execution_count": 2,
   "metadata": {},
   "outputs": [],
   "source": [
    "import numpy as np\n",
    "import pandas as pd\n",
    "%matplotlib inline\n",
    "import matplotlib.pyplot as plt\n",
    "import seaborn; seaborn.set_style('whitegrid')"
   ]
  },
  {
   "cell_type": "code",
   "execution_count": 3,
   "metadata": {},
   "outputs": [],
   "source": [
    "data = pd.read_csv(\"insurance.csv\", dtype = str)"
   ]
  },
  {
   "cell_type": "code",
   "execution_count": 4,
   "metadata": {},
   "outputs": [
    {
     "data": {
      "text/html": [
       "<div>\n",
       "<style scoped>\n",
       "    .dataframe tbody tr th:only-of-type {\n",
       "        vertical-align: middle;\n",
       "    }\n",
       "\n",
       "    .dataframe tbody tr th {\n",
       "        vertical-align: top;\n",
       "    }\n",
       "\n",
       "    .dataframe thead th {\n",
       "        text-align: right;\n",
       "    }\n",
       "</style>\n",
       "<table border=\"1\" class=\"dataframe\">\n",
       "  <thead>\n",
       "    <tr style=\"text-align: right;\">\n",
       "      <th></th>\n",
       "      <th>GoodStudent</th>\n",
       "      <th>Age</th>\n",
       "      <th>SocioEcon</th>\n",
       "      <th>RiskAversion</th>\n",
       "      <th>VehicleYear</th>\n",
       "      <th>ThisCarDam</th>\n",
       "      <th>RuggedAuto</th>\n",
       "      <th>Accident</th>\n",
       "      <th>MakeModel</th>\n",
       "      <th>DrivQuality</th>\n",
       "      <th>...</th>\n",
       "      <th>HomeBase</th>\n",
       "      <th>AntiTheft</th>\n",
       "      <th>PropCost</th>\n",
       "      <th>OtherCarCost</th>\n",
       "      <th>OtherCar</th>\n",
       "      <th>MedCost</th>\n",
       "      <th>Cushioning</th>\n",
       "      <th>Airbag</th>\n",
       "      <th>ILiCost</th>\n",
       "      <th>DrivHist</th>\n",
       "    </tr>\n",
       "  </thead>\n",
       "  <tbody>\n",
       "    <tr>\n",
       "      <th>19995</th>\n",
       "      <td>False</td>\n",
       "      <td>Adult</td>\n",
       "      <td>Prole</td>\n",
       "      <td>Adventurous</td>\n",
       "      <td>Older</td>\n",
       "      <td>Mild</td>\n",
       "      <td>Football</td>\n",
       "      <td>Mild</td>\n",
       "      <td>Economy</td>\n",
       "      <td>Poor</td>\n",
       "      <td>...</td>\n",
       "      <td>City</td>\n",
       "      <td>False</td>\n",
       "      <td>Thousand</td>\n",
       "      <td>Thousand</td>\n",
       "      <td>True</td>\n",
       "      <td>Thousand</td>\n",
       "      <td>Fair</td>\n",
       "      <td>False</td>\n",
       "      <td>Thousand</td>\n",
       "      <td>Many</td>\n",
       "    </tr>\n",
       "    <tr>\n",
       "      <th>19996</th>\n",
       "      <td>False</td>\n",
       "      <td>Adult</td>\n",
       "      <td>Middle</td>\n",
       "      <td>Normal</td>\n",
       "      <td>Older</td>\n",
       "      <td>None</td>\n",
       "      <td>Tank</td>\n",
       "      <td>None</td>\n",
       "      <td>FamilySedan</td>\n",
       "      <td>Normal</td>\n",
       "      <td>...</td>\n",
       "      <td>Suburb</td>\n",
       "      <td>False</td>\n",
       "      <td>Thousand</td>\n",
       "      <td>Thousand</td>\n",
       "      <td>True</td>\n",
       "      <td>Thousand</td>\n",
       "      <td>Good</td>\n",
       "      <td>False</td>\n",
       "      <td>Thousand</td>\n",
       "      <td>Zero</td>\n",
       "    </tr>\n",
       "    <tr>\n",
       "      <th>19997</th>\n",
       "      <td>False</td>\n",
       "      <td>Senior</td>\n",
       "      <td>UpperMiddle</td>\n",
       "      <td>Normal</td>\n",
       "      <td>Current</td>\n",
       "      <td>None</td>\n",
       "      <td>Football</td>\n",
       "      <td>None</td>\n",
       "      <td>Luxury</td>\n",
       "      <td>Excellent</td>\n",
       "      <td>...</td>\n",
       "      <td>Secure</td>\n",
       "      <td>True</td>\n",
       "      <td>TenThou</td>\n",
       "      <td>Thousand</td>\n",
       "      <td>False</td>\n",
       "      <td>Thousand</td>\n",
       "      <td>Excellent</td>\n",
       "      <td>True</td>\n",
       "      <td>Thousand</td>\n",
       "      <td>Zero</td>\n",
       "    </tr>\n",
       "    <tr>\n",
       "      <th>19998</th>\n",
       "      <td>False</td>\n",
       "      <td>Adult</td>\n",
       "      <td>Middle</td>\n",
       "      <td>Normal</td>\n",
       "      <td>Older</td>\n",
       "      <td>None</td>\n",
       "      <td>Football</td>\n",
       "      <td>None</td>\n",
       "      <td>FamilySedan</td>\n",
       "      <td>Excellent</td>\n",
       "      <td>...</td>\n",
       "      <td>Suburb</td>\n",
       "      <td>False</td>\n",
       "      <td>Thousand</td>\n",
       "      <td>Thousand</td>\n",
       "      <td>True</td>\n",
       "      <td>Thousand</td>\n",
       "      <td>Good</td>\n",
       "      <td>True</td>\n",
       "      <td>Thousand</td>\n",
       "      <td>Zero</td>\n",
       "    </tr>\n",
       "    <tr>\n",
       "      <th>19999</th>\n",
       "      <td>False</td>\n",
       "      <td>Adult</td>\n",
       "      <td>Middle</td>\n",
       "      <td>Normal</td>\n",
       "      <td>Older</td>\n",
       "      <td>None</td>\n",
       "      <td>Tank</td>\n",
       "      <td>None</td>\n",
       "      <td>FamilySedan</td>\n",
       "      <td>Excellent</td>\n",
       "      <td>...</td>\n",
       "      <td>Secure</td>\n",
       "      <td>False</td>\n",
       "      <td>Thousand</td>\n",
       "      <td>Thousand</td>\n",
       "      <td>True</td>\n",
       "      <td>Thousand</td>\n",
       "      <td>Excellent</td>\n",
       "      <td>True</td>\n",
       "      <td>Thousand</td>\n",
       "      <td>Zero</td>\n",
       "    </tr>\n",
       "  </tbody>\n",
       "</table>\n",
       "<p>5 rows × 27 columns</p>\n",
       "</div>"
      ],
      "text/plain": [
       "      GoodStudent     Age    SocioEcon RiskAversion VehicleYear ThisCarDam  \\\n",
       "19995       False   Adult        Prole  Adventurous       Older       Mild   \n",
       "19996       False   Adult       Middle       Normal       Older       None   \n",
       "19997       False  Senior  UpperMiddle       Normal     Current       None   \n",
       "19998       False   Adult       Middle       Normal       Older       None   \n",
       "19999       False   Adult       Middle       Normal       Older       None   \n",
       "\n",
       "      RuggedAuto Accident    MakeModel DrivQuality   ...    HomeBase  \\\n",
       "19995   Football     Mild      Economy        Poor   ...        City   \n",
       "19996       Tank     None  FamilySedan      Normal   ...      Suburb   \n",
       "19997   Football     None       Luxury   Excellent   ...      Secure   \n",
       "19998   Football     None  FamilySedan   Excellent   ...      Suburb   \n",
       "19999       Tank     None  FamilySedan   Excellent   ...      Secure   \n",
       "\n",
       "      AntiTheft  PropCost OtherCarCost OtherCar   MedCost Cushioning Airbag  \\\n",
       "19995     False  Thousand     Thousand     True  Thousand       Fair  False   \n",
       "19996     False  Thousand     Thousand     True  Thousand       Good  False   \n",
       "19997      True   TenThou     Thousand    False  Thousand  Excellent   True   \n",
       "19998     False  Thousand     Thousand     True  Thousand       Good   True   \n",
       "19999     False  Thousand     Thousand     True  Thousand  Excellent   True   \n",
       "\n",
       "        ILiCost DrivHist  \n",
       "19995  Thousand     Many  \n",
       "19996  Thousand     Zero  \n",
       "19997  Thousand     Zero  \n",
       "19998  Thousand     Zero  \n",
       "19999  Thousand     Zero  \n",
       "\n",
       "[5 rows x 27 columns]"
      ]
     },
     "execution_count": 4,
     "metadata": {},
     "output_type": "execute_result"
    }
   ],
   "source": [
    "data.tail()"
   ]
  },
  {
   "cell_type": "code",
   "execution_count": 5,
   "metadata": {},
   "outputs": [
    {
     "name": "stdout",
     "output_type": "stream",
     "text": [
      "<class 'pandas.core.frame.DataFrame'>\n",
      "RangeIndex: 20000 entries, 0 to 19999\n",
      "Data columns (total 27 columns):\n",
      "GoodStudent     20000 non-null object\n",
      "Age             20000 non-null object\n",
      "SocioEcon       20000 non-null object\n",
      "RiskAversion    20000 non-null object\n",
      "VehicleYear     20000 non-null object\n",
      "ThisCarDam      20000 non-null object\n",
      "RuggedAuto      20000 non-null object\n",
      "Accident        20000 non-null object\n",
      "MakeModel       20000 non-null object\n",
      "DrivQuality     20000 non-null object\n",
      "Mileage         20000 non-null object\n",
      "Antilock        20000 non-null object\n",
      "DrivingSkill    20000 non-null object\n",
      "SeniorTrain     20000 non-null object\n",
      "ThisCarCost     20000 non-null object\n",
      "Theft           20000 non-null object\n",
      "CarValue        20000 non-null object\n",
      "HomeBase        20000 non-null object\n",
      "AntiTheft       20000 non-null object\n",
      "PropCost        20000 non-null object\n",
      "OtherCarCost    20000 non-null object\n",
      "OtherCar        20000 non-null object\n",
      "MedCost         20000 non-null object\n",
      "Cushioning      20000 non-null object\n",
      "Airbag          20000 non-null object\n",
      "ILiCost         20000 non-null object\n",
      "DrivHist        20000 non-null object\n",
      "dtypes: object(27)\n",
      "memory usage: 2.1+ MB\n"
     ]
    }
   ],
   "source": [
    "data.info()"
   ]
  },
  {
   "cell_type": "code",
   "execution_count": 6,
   "metadata": {},
   "outputs": [
    {
     "data": {
      "text/html": [
       "<div>\n",
       "<style scoped>\n",
       "    .dataframe tbody tr th:only-of-type {\n",
       "        vertical-align: middle;\n",
       "    }\n",
       "\n",
       "    .dataframe tbody tr th {\n",
       "        vertical-align: top;\n",
       "    }\n",
       "\n",
       "    .dataframe thead th {\n",
       "        text-align: right;\n",
       "    }\n",
       "</style>\n",
       "<table border=\"1\" class=\"dataframe\">\n",
       "  <thead>\n",
       "    <tr style=\"text-align: right;\">\n",
       "      <th></th>\n",
       "      <th>GoodStudent</th>\n",
       "      <th>Age</th>\n",
       "      <th>SocioEcon</th>\n",
       "      <th>RiskAversion</th>\n",
       "      <th>VehicleYear</th>\n",
       "      <th>ThisCarDam</th>\n",
       "      <th>RuggedAuto</th>\n",
       "      <th>Accident</th>\n",
       "      <th>MakeModel</th>\n",
       "      <th>DrivQuality</th>\n",
       "      <th>...</th>\n",
       "      <th>HomeBase</th>\n",
       "      <th>AntiTheft</th>\n",
       "      <th>PropCost</th>\n",
       "      <th>OtherCarCost</th>\n",
       "      <th>OtherCar</th>\n",
       "      <th>MedCost</th>\n",
       "      <th>Cushioning</th>\n",
       "      <th>Airbag</th>\n",
       "      <th>ILiCost</th>\n",
       "      <th>DrivHist</th>\n",
       "    </tr>\n",
       "  </thead>\n",
       "  <tbody>\n",
       "    <tr>\n",
       "      <th>count</th>\n",
       "      <td>20000</td>\n",
       "      <td>20000</td>\n",
       "      <td>20000</td>\n",
       "      <td>20000</td>\n",
       "      <td>20000</td>\n",
       "      <td>20000</td>\n",
       "      <td>20000</td>\n",
       "      <td>20000</td>\n",
       "      <td>20000</td>\n",
       "      <td>20000</td>\n",
       "      <td>...</td>\n",
       "      <td>20000</td>\n",
       "      <td>20000</td>\n",
       "      <td>20000</td>\n",
       "      <td>20000</td>\n",
       "      <td>20000</td>\n",
       "      <td>20000</td>\n",
       "      <td>20000</td>\n",
       "      <td>20000</td>\n",
       "      <td>20000</td>\n",
       "      <td>20000</td>\n",
       "    </tr>\n",
       "    <tr>\n",
       "      <th>unique</th>\n",
       "      <td>2</td>\n",
       "      <td>3</td>\n",
       "      <td>4</td>\n",
       "      <td>4</td>\n",
       "      <td>2</td>\n",
       "      <td>4</td>\n",
       "      <td>3</td>\n",
       "      <td>4</td>\n",
       "      <td>5</td>\n",
       "      <td>3</td>\n",
       "      <td>...</td>\n",
       "      <td>4</td>\n",
       "      <td>2</td>\n",
       "      <td>4</td>\n",
       "      <td>3</td>\n",
       "      <td>2</td>\n",
       "      <td>4</td>\n",
       "      <td>4</td>\n",
       "      <td>2</td>\n",
       "      <td>4</td>\n",
       "      <td>3</td>\n",
       "    </tr>\n",
       "    <tr>\n",
       "      <th>top</th>\n",
       "      <td>False</td>\n",
       "      <td>Adult</td>\n",
       "      <td>Prole</td>\n",
       "      <td>Normal</td>\n",
       "      <td>Older</td>\n",
       "      <td>None</td>\n",
       "      <td>EggShell</td>\n",
       "      <td>None</td>\n",
       "      <td>Economy</td>\n",
       "      <td>Normal</td>\n",
       "      <td>...</td>\n",
       "      <td>City</td>\n",
       "      <td>False</td>\n",
       "      <td>Thousand</td>\n",
       "      <td>Thousand</td>\n",
       "      <td>True</td>\n",
       "      <td>Thousand</td>\n",
       "      <td>Poor</td>\n",
       "      <td>False</td>\n",
       "      <td>Thousand</td>\n",
       "      <td>Zero</td>\n",
       "    </tr>\n",
       "    <tr>\n",
       "      <th>freq</th>\n",
       "      <td>19115</td>\n",
       "      <td>11939</td>\n",
       "      <td>8444</td>\n",
       "      <td>9644</td>\n",
       "      <td>13089</td>\n",
       "      <td>14681</td>\n",
       "      <td>9838</td>\n",
       "      <td>14336</td>\n",
       "      <td>7637</td>\n",
       "      <td>8897</td>\n",
       "      <td>...</td>\n",
       "      <td>7709</td>\n",
       "      <td>11705</td>\n",
       "      <td>11170</td>\n",
       "      <td>17180</td>\n",
       "      <td>13955</td>\n",
       "      <td>18589</td>\n",
       "      <td>6547</td>\n",
       "      <td>11468</td>\n",
       "      <td>19356</td>\n",
       "      <td>11486</td>\n",
       "    </tr>\n",
       "  </tbody>\n",
       "</table>\n",
       "<p>4 rows × 27 columns</p>\n",
       "</div>"
      ],
      "text/plain": [
       "       GoodStudent    Age SocioEcon RiskAversion VehicleYear ThisCarDam  \\\n",
       "count        20000  20000     20000        20000       20000      20000   \n",
       "unique           2      3         4            4           2          4   \n",
       "top          False  Adult     Prole       Normal       Older       None   \n",
       "freq         19115  11939      8444         9644       13089      14681   \n",
       "\n",
       "       RuggedAuto Accident MakeModel DrivQuality   ...    HomeBase AntiTheft  \\\n",
       "count       20000    20000     20000       20000   ...       20000     20000   \n",
       "unique          3        4         5           3   ...           4         2   \n",
       "top      EggShell     None   Economy      Normal   ...        City     False   \n",
       "freq         9838    14336      7637        8897   ...        7709     11705   \n",
       "\n",
       "        PropCost OtherCarCost OtherCar   MedCost Cushioning Airbag   ILiCost  \\\n",
       "count      20000        20000    20000     20000      20000  20000     20000   \n",
       "unique         4            3        2         4          4      2         4   \n",
       "top     Thousand     Thousand     True  Thousand       Poor  False  Thousand   \n",
       "freq       11170        17180    13955     18589       6547  11468     19356   \n",
       "\n",
       "       DrivHist  \n",
       "count     20000  \n",
       "unique        3  \n",
       "top        Zero  \n",
       "freq      11486  \n",
       "\n",
       "[4 rows x 27 columns]"
      ]
     },
     "execution_count": 6,
     "metadata": {},
     "output_type": "execute_result"
    }
   ],
   "source": [
    "data.describe()"
   ]
  },
  {
   "cell_type": "code",
   "execution_count": 7,
   "metadata": {},
   "outputs": [],
   "source": [
    "df = data[['Age', 'SocioEcon', 'Accident', 'Mileage', 'DrivingSkill', 'ThisCarCost']]"
   ]
  },
  {
   "cell_type": "code",
   "execution_count": 8,
   "metadata": {},
   "outputs": [
    {
     "data": {
      "text/html": [
       "<div>\n",
       "<style scoped>\n",
       "    .dataframe tbody tr th:only-of-type {\n",
       "        vertical-align: middle;\n",
       "    }\n",
       "\n",
       "    .dataframe tbody tr th {\n",
       "        vertical-align: top;\n",
       "    }\n",
       "\n",
       "    .dataframe thead th {\n",
       "        text-align: right;\n",
       "    }\n",
       "</style>\n",
       "<table border=\"1\" class=\"dataframe\">\n",
       "  <thead>\n",
       "    <tr style=\"text-align: right;\">\n",
       "      <th></th>\n",
       "      <th>Age</th>\n",
       "      <th>SocioEcon</th>\n",
       "      <th>Accident</th>\n",
       "      <th>Mileage</th>\n",
       "      <th>DrivingSkill</th>\n",
       "      <th>ThisCarCost</th>\n",
       "    </tr>\n",
       "  </thead>\n",
       "  <tbody>\n",
       "    <tr>\n",
       "      <th>0</th>\n",
       "      <td>Adult</td>\n",
       "      <td>Prole</td>\n",
       "      <td>Mild</td>\n",
       "      <td>TwentyThou</td>\n",
       "      <td>SubStandard</td>\n",
       "      <td>TenThou</td>\n",
       "    </tr>\n",
       "    <tr>\n",
       "      <th>1</th>\n",
       "      <td>Senior</td>\n",
       "      <td>Prole</td>\n",
       "      <td>None</td>\n",
       "      <td>TwentyThou</td>\n",
       "      <td>Normal</td>\n",
       "      <td>Thousand</td>\n",
       "    </tr>\n",
       "    <tr>\n",
       "      <th>2</th>\n",
       "      <td>Senior</td>\n",
       "      <td>UpperMiddle</td>\n",
       "      <td>None</td>\n",
       "      <td>Domino</td>\n",
       "      <td>Normal</td>\n",
       "      <td>Thousand</td>\n",
       "    </tr>\n",
       "    <tr>\n",
       "      <th>3</th>\n",
       "      <td>Adolescent</td>\n",
       "      <td>Middle</td>\n",
       "      <td>None</td>\n",
       "      <td>FiftyThou</td>\n",
       "      <td>Normal</td>\n",
       "      <td>Thousand</td>\n",
       "    </tr>\n",
       "    <tr>\n",
       "      <th>4</th>\n",
       "      <td>Adolescent</td>\n",
       "      <td>Prole</td>\n",
       "      <td>Moderate</td>\n",
       "      <td>FiftyThou</td>\n",
       "      <td>SubStandard</td>\n",
       "      <td>TenThou</td>\n",
       "    </tr>\n",
       "    <tr>\n",
       "      <th>5</th>\n",
       "      <td>Adult</td>\n",
       "      <td>UpperMiddle</td>\n",
       "      <td>Moderate</td>\n",
       "      <td>FiftyThou</td>\n",
       "      <td>SubStandard</td>\n",
       "      <td>HundredThou</td>\n",
       "    </tr>\n",
       "    <tr>\n",
       "      <th>6</th>\n",
       "      <td>Senior</td>\n",
       "      <td>UpperMiddle</td>\n",
       "      <td>Mild</td>\n",
       "      <td>FiveThou</td>\n",
       "      <td>SubStandard</td>\n",
       "      <td>TenThou</td>\n",
       "    </tr>\n",
       "    <tr>\n",
       "      <th>7</th>\n",
       "      <td>Adult</td>\n",
       "      <td>Prole</td>\n",
       "      <td>Severe</td>\n",
       "      <td>TwentyThou</td>\n",
       "      <td>SubStandard</td>\n",
       "      <td>TenThou</td>\n",
       "    </tr>\n",
       "    <tr>\n",
       "      <th>8</th>\n",
       "      <td>Adult</td>\n",
       "      <td>Prole</td>\n",
       "      <td>Severe</td>\n",
       "      <td>TwentyThou</td>\n",
       "      <td>SubStandard</td>\n",
       "      <td>TenThou</td>\n",
       "    </tr>\n",
       "    <tr>\n",
       "      <th>9</th>\n",
       "      <td>Adolescent</td>\n",
       "      <td>Prole</td>\n",
       "      <td>Severe</td>\n",
       "      <td>TwentyThou</td>\n",
       "      <td>SubStandard</td>\n",
       "      <td>TenThou</td>\n",
       "    </tr>\n",
       "  </tbody>\n",
       "</table>\n",
       "</div>"
      ],
      "text/plain": [
       "          Age    SocioEcon  Accident     Mileage DrivingSkill  ThisCarCost\n",
       "0       Adult        Prole      Mild  TwentyThou  SubStandard      TenThou\n",
       "1      Senior        Prole      None  TwentyThou       Normal     Thousand\n",
       "2      Senior  UpperMiddle      None      Domino       Normal     Thousand\n",
       "3  Adolescent       Middle      None   FiftyThou       Normal     Thousand\n",
       "4  Adolescent        Prole  Moderate   FiftyThou  SubStandard      TenThou\n",
       "5       Adult  UpperMiddle  Moderate   FiftyThou  SubStandard  HundredThou\n",
       "6      Senior  UpperMiddle      Mild    FiveThou  SubStandard      TenThou\n",
       "7       Adult        Prole    Severe  TwentyThou  SubStandard      TenThou\n",
       "8       Adult        Prole    Severe  TwentyThou  SubStandard      TenThou\n",
       "9  Adolescent        Prole    Severe  TwentyThou  SubStandard      TenThou"
      ]
     },
     "execution_count": 8,
     "metadata": {},
     "output_type": "execute_result"
    }
   ],
   "source": [
    "df.head(10)"
   ]
  },
  {
   "cell_type": "code",
   "execution_count": 9,
   "metadata": {},
   "outputs": [],
   "source": [
    "from sklearn.model_selection import train_test_split"
   ]
  },
  {
   "cell_type": "code",
   "execution_count": 11,
   "metadata": {},
   "outputs": [],
   "source": [
    "train, test = train_test_split(df, test_size=0.20, random_state=42)"
   ]
  },
  {
   "cell_type": "markdown",
   "metadata": {},
   "source": [
    "# Structures"
   ]
  },
  {
   "cell_type": "code",
   "execution_count": 12,
   "metadata": {},
   "outputs": [
    {
     "data": {
      "text/plain": [
       "((4,), (0, 5), (5,), (2,), (2,), ())"
      ]
     },
     "execution_count": 12,
     "metadata": {},
     "output_type": "execute_result"
    }
   ],
   "source": [
    "bnet1 = BayesianNetwork.from_samples(train, algorithm='greedy')\n",
    "bnet1.structure"
   ]
  },
  {
   "cell_type": "code",
   "execution_count": 13,
   "metadata": {},
   "outputs": [
    {
     "data": {
      "text/plain": [
       "((1, 4), (5,), (3, 4), (), (), (2,))"
      ]
     },
     "execution_count": 13,
     "metadata": {},
     "output_type": "execute_result"
    }
   ],
   "source": [
    "bnet2 = BayesianNetwork.from_samples(train, algorithm='exact')\n",
    "bnet2.structure"
   ]
  },
  {
   "cell_type": "code",
   "execution_count": 14,
   "metadata": {},
   "outputs": [
    {
     "data": {
      "text/plain": [
       "((1, 4), (5,), (3, 4), (), (), (2,))"
      ]
     },
     "execution_count": 14,
     "metadata": {},
     "output_type": "execute_result"
    }
   ],
   "source": [
    "bnet3 = BayesianNetwork.from_samples(train, algorithm='exact-dp')\n",
    "bnet3.structure"
   ]
  },
  {
   "cell_type": "code",
   "execution_count": 15,
   "metadata": {},
   "outputs": [
    {
     "data": {
      "text/plain": [
       "((), (5,), (4,), (2,), (0,), (2,))"
      ]
     },
     "execution_count": 15,
     "metadata": {},
     "output_type": "execute_result"
    }
   ],
   "source": [
    "bnet4 = BayesianNetwork.from_samples(train, algorithm='chow-liu')\n",
    "bnet4.structure"
   ]
  },
  {
   "cell_type": "markdown",
   "metadata": {},
   "source": [
    "# Predict"
   ]
  },
  {
   "cell_type": "markdown",
   "metadata": {},
   "source": [
    "Предсказываем Accident по остальным параметрам."
   ]
  },
  {
   "cell_type": "code",
   "execution_count": 20,
   "metadata": {},
   "outputs": [
    {
     "data": {
      "text/plain": [
       "array(['Adolescent', 'Middle',\n",
       "       {\n",
       "    \"class\" :\"Distribution\",\n",
       "    \"dtype\" :\"str\",\n",
       "    \"name\" :\"DiscreteDistribution\",\n",
       "    \"parameters\" :[\n",
       "        {\n",
       "            \"Mild\" :0.04148640065260919,\n",
       "            \"Moderate\" :0.0069963324552751475,\n",
       "            \"Severe\" :0.0029741463545237892,\n",
       "            \"None\" :0.9485431205375918\n",
       "        }\n",
       "    ],\n",
       "    \"frozen\" :false\n",
       "},\n",
       "       'FiftyThou', 'Normal', 'Thousand'], dtype=object)"
      ]
     },
     "execution_count": 20,
     "metadata": {},
     "output_type": "execute_result"
    }
   ],
   "source": [
    "bnet1.predict_proba([\"Adolescent\", \"Middle\", None, \"FiftyThou\", \"Normal\", \"Thousand\"])"
   ]
  },
  {
   "cell_type": "code",
   "execution_count": 21,
   "metadata": {},
   "outputs": [
    {
     "data": {
      "text/plain": [
       "[array(['Adolescent', 'Middle', 'None', 'FiftyThou', 'Normal', 'Thousand'],\n",
       "       dtype=object)]"
      ]
     },
     "execution_count": 21,
     "metadata": {},
     "output_type": "execute_result"
    }
   ],
   "source": [
    "bnet1.predict([[\"Adolescent\", \"Middle\", None, \"FiftyThou\", \"Normal\", \"Thousand\"]])"
   ]
  },
  {
   "cell_type": "code",
   "execution_count": 22,
   "metadata": {
    "scrolled": true
   },
   "outputs": [
    {
     "name": "stderr",
     "output_type": "stream",
     "text": [
      "C:\\Users\\Lyasa\\AppData\\Local\\Programs\\Python\\Python37-32\\lib\\site-packages\\pandas\\core\\indexing.py:630: SettingWithCopyWarning: \n",
      "A value is trying to be set on a copy of a slice from a DataFrame.\n",
      "Try using .loc[row_indexer,col_indexer] = value instead\n",
      "\n",
      "See the caveats in the documentation: http://pandas.pydata.org/pandas-docs/stable/indexing.html#indexing-view-versus-copy\n",
      "  self.obj[item_labels[indexer[info_axis]]] = value\n"
     ]
    }
   ],
   "source": [
    "y_true = test.loc[:,'Accident']\n",
    "test.loc[:, 'Accident'] = np.nan"
   ]
  },
  {
   "cell_type": "code",
   "execution_count": 23,
   "metadata": {},
   "outputs": [],
   "source": [
    "pred1 = bnet1.predict(test.values)\n",
    "pred2 = bnet2.predict(test.values)\n",
    "pred3 = bnet3.predict(test.values)\n",
    "pred4 = bnet4.predict(test.values)"
   ]
  },
  {
   "cell_type": "code",
   "execution_count": 24,
   "metadata": {},
   "outputs": [],
   "source": [
    "y_pred1 = pd.DataFrame(pred1).loc[:,2]\n",
    "y_pred2 = pd.DataFrame(pred2).loc[:,2]\n",
    "y_pred3 = pd.DataFrame(pred3).loc[:,2]\n",
    "y_pred4 = pd.DataFrame(pred4).loc[:,2]"
   ]
  },
  {
   "cell_type": "markdown",
   "metadata": {},
   "source": [
    "# Metrics"
   ]
  },
  {
   "cell_type": "code",
   "execution_count": 25,
   "metadata": {},
   "outputs": [],
   "source": [
    "from sklearn.metrics import accuracy_score"
   ]
  },
  {
   "cell_type": "code",
   "execution_count": 26,
   "metadata": {},
   "outputs": [],
   "source": [
    "m1 = accuracy_score(y_true, y_pred1)\n",
    "m2 = accuracy_score(y_true, y_pred2)\n",
    "m3 = accuracy_score(y_true, y_pred3)\n",
    "m4 = accuracy_score(y_true, y_pred4)"
   ]
  },
  {
   "cell_type": "code",
   "execution_count": 27,
   "metadata": {},
   "outputs": [
    {
     "name": "stdout",
     "output_type": "stream",
     "text": [
      "Accuracy \n",
      " greedy    0.8325 \n",
      " exact     0.82875 \n",
      " exact-dp  0.82875 \n",
      " chow-liu  0.8325\n"
     ]
    }
   ],
   "source": [
    "print(f\"Accuracy \\n greedy    {m1} \\n exact     {m2} \\n exact-dp  {m3} \\n chow-liu  {m4}\")"
   ]
  },
  {
   "cell_type": "markdown",
   "metadata": {},
   "source": [
    "greedy & chow-liu получились лучшими моделями, согласно accuracy."
   ]
  },
  {
   "cell_type": "code",
   "execution_count": 28,
   "metadata": {},
   "outputs": [],
   "source": [
    "from sklearn.metrics import f1_score"
   ]
  },
  {
   "cell_type": "code",
   "execution_count": 29,
   "metadata": {},
   "outputs": [
    {
     "name": "stderr",
     "output_type": "stream",
     "text": [
      "C:\\Users\\Lyasa\\AppData\\Local\\Programs\\Python\\Python37-32\\lib\\site-packages\\sklearn\\metrics\\classification.py:1143: UndefinedMetricWarning: F-score is ill-defined and being set to 0.0 in labels with no predicted samples.\n",
      "  'precision', 'predicted', average, warn_for)\n"
     ]
    }
   ],
   "source": [
    "f1 = f1_score(y_true, y_pred1, average='macro')\n",
    "f2 = f1_score(y_true, y_pred2, average='macro')\n",
    "f3 = f1_score(y_true, y_pred3, average='macro')\n",
    "f4 = f1_score(y_true, y_pred4, average='macro')"
   ]
  },
  {
   "cell_type": "code",
   "execution_count": 30,
   "metadata": {},
   "outputs": [
    {
     "name": "stdout",
     "output_type": "stream",
     "text": [
      "F1 \n",
      " greedy    0.4474107546618745 \n",
      " exact     0.4690828852442789 \n",
      " exact-dp  0.4690828852442789 \n",
      " chow-liu  0.4474107546618745\n"
     ]
    }
   ],
   "source": [
    "print(f\"F1 \\n greedy    {f1} \\n exact     {f2} \\n exact-dp  {f3} \\n chow-liu  {f4}\")"
   ]
  },
  {
   "cell_type": "markdown",
   "metadata": {},
   "source": [
    "exact & exact-dp получились лучшими моделями, согласно F1 score."
   ]
  },
  {
   "cell_type": "markdown",
   "metadata": {},
   "source": [
    "# Results"
   ]
  },
  {
   "cell_type": "markdown",
   "metadata": {},
   "source": [
    "По результатам 1 метрики (F1) из 2-х (accuracy и F1) лучшими моделями получились exact & exact-dp. Выберем exact как итоговую."
   ]
  }
 ],
 "metadata": {
  "kernelspec": {
   "display_name": "Python 3",
   "language": "python",
   "name": "python3"
  },
  "language_info": {
   "codemirror_mode": {
    "name": "ipython",
    "version": 3
   },
   "file_extension": ".py",
   "mimetype": "text/x-python",
   "name": "python",
   "nbconvert_exporter": "python",
   "pygments_lexer": "ipython3",
   "version": "3.7.1"
  }
 },
 "nbformat": 4,
 "nbformat_minor": 2
}
