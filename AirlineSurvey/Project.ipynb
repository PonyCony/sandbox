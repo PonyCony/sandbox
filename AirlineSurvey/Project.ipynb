{
 "cells": [
  {
   "cell_type": "markdown",
   "metadata": {},
   "source": [
    "# SAMPLE DATA: Airline Survey\n",
    "Источник данных: https://www.ibm.com/communities/analytics/watson-analytics-blog/sample-data-airline-survey/"
   ]
  },
  {
   "cell_type": "code",
   "execution_count": 8,
   "metadata": {},
   "outputs": [],
   "source": [
    "# Загружаем библиотеки\n",
    "import numpy as np # работа с векторами\n",
    "import pandas as pd # для работы с матрицами\n",
    "import xlrd # для считывания файлов Эксель\n",
    "import warnings\n",
    "warnings.filterwarnings('ignore')\n",
    "import scipy.stats # для статистик\n",
    "import seaborn as sns\n",
    "from pylab import rcParams\n",
    "%matplotlib inline\n",
    "sns.set_style(\"ticks\")\n",
    "rcParams['figure.figsize'] = 15, 9"
   ]
  },
  {
   "cell_type": "code",
   "execution_count": 2,
   "metadata": {},
   "outputs": [],
   "source": [
    "# загружаем данные\n",
    "data_xls = pd.read_excel('Satisfaction Survey.xlsx', 'Sheet1', index_col=None)\n",
    "data_xls.to_csv('Satisfaction Survey.csv', encoding='utf-8', index=False)\n",
    "dataset = pd.read_csv('Satisfaction Survey.csv', low_memory=False) "
   ]
  },
  {
   "cell_type": "code",
   "execution_count": 3,
   "metadata": {},
   "outputs": [
    {
     "name": "stdout",
     "output_type": "stream",
     "text": [
      "(129889, 30)\n",
      "Index(['Satisfaction', 'Airline Status', 'Age', 'Age Range', 'Gender',\n",
      "       'Price Sensitivity', 'Year of First Flight', 'No of Flights p.a.',\n",
      "       'No of Flights p.a. grouped', '% of Flight with other Airlines',\n",
      "       'Type of Travel', 'No. of other Loyalty Cards',\n",
      "       'Shopping Amount at Airport', 'Eating and Drinking at Airport', 'Class',\n",
      "       'Day of Month', 'Flight date', 'Airline Code', 'Airline Name',\n",
      "       'Orgin City', 'Origin State', 'Destination City', 'Destination State',\n",
      "       'Scheduled Departure Hour', 'Departure Delay in Minutes',\n",
      "       'Arrival Delay in Minutes', 'Flight cancelled',\n",
      "       'Flight time in minutes', 'Flight Distance',\n",
      "       'Arrival Delay greater 5 Mins'],\n",
      "      dtype='object')\n"
     ]
    }
   ],
   "source": [
    "print(dataset.shape)\n",
    "print(dataset.columns)"
   ]
  },
  {
   "cell_type": "markdown",
   "metadata": {},
   "source": [
    "Датасет содержит 129889 наблюдений по 30 факторам и описывает Удовлетворённость аэропассажиров; содержит информацию:\n",
    "* 'Satisfaction' - оценка удовлетворённости пассажира (от 0 до 5)\n",
    "* 'Airline Status' - статус клиента (Blue, Silver, Gold, Platinum)\n",
    "* 'Age', - возраст клиента\n",
    "* 'Age Range' - возрастная группа (по десятилетиям)\n",
    "* 'Gender' - пол (М или Ж)\n",
    "* 'Price Sensitivity' - чувствительность к цене билета (от 0 до 5)\n",
    "* 'Year of First Flight' - год первого полёта (2003-2012)\n",
    "* 'No of Flights p.a.' - среднее количество полётов в год (от 0 до 100)\n",
    "* 'No of Flights p.a. grouped' - группа по количеству полётов (по десяткам)\n",
    "* '% of Flight with other Airlines' - доля полётов с другими авиалиниями\n",
    "* 'Type of Travel' - тип полёта (Business travel, Personal Travel, Mileage tickets)\n",
    "* 'No. of other Loyalty Cards' - количество карт лольности других авиалиний\n",
    "* 'Shopping Amount at Airport' - стоимость покупок в аэропорту\n",
    "* 'Eating and Drinking at Airport' - траты на еду и напитки в аэропорту\n",
    "* 'Class' - класс билета (Business, Eco, Eco Plus)\n",
    "* 'Day of Month' - день месяца\n",
    "* 'Flight date' - дата полёта\n",
    "* 'Airline Code'  - код авиалинии\n",
    "* 'Airline Name' - название авиалинии\n",
    "* 'Orgin City' - город вылета\n",
    "* 'Origin State' - штат вылета\n",
    "* 'Destination City' - город прилёта\n",
    "* 'Destination State' - штат прилёта\n",
    "* 'Scheduled Departure Hour' - запланированное время вылета\n",
    "* 'Departure Delay in Minutes' - задержка вылета (в мин.)\n",
    "* 'Arrival Delay in Minutes' - задержка посадки (в мин.)\n",
    "* 'Flight cancelled' - рейс отменен (да/нет)\n",
    "* 'Flight time in minutes' - длительность полёта (в мин.)\n",
    "* 'Flight Distance' - расстояние (в милях)\n",
    "* 'Arrival Delay greater 5 Mins' - задержка дольше 5 минут (да/нет)"
   ]
  },
  {
   "cell_type": "markdown",
   "metadata": {},
   "source": [
    "Основная задача исследования: выявить взаимосвязи между характеристиками пассажиров (как субъективной составляющей), длительностью задержки рейса (как объективной составляющей) и оценкой удовлетворённости. Сравнить и объяснить влияние субъективных и объективных аспектов на формирование клиентами мнения о качестве предоставляемых авиакомпанией услуг. В дальнейшем полученные знания можно будет использовать для выделения клиентских групп и формирования персонализированных предложений, направленных на повышение их удовлетворённости. К примеру, путём раннего информирования о предстоящих акциях, можно мотивировать молодых людей путешествовать чаще (Age 18-30, Type of travel -- Personal travel, Class -- Eco / Eco Plus). "
   ]
  },
  {
   "cell_type": "markdown",
   "metadata": {},
   "source": [
    "Оставим для анализа следующие показатели: 'Satisfaction', 'Airline Status', 'Age', 'Gender', 'Price Sensitivity', 'No of Flights p.a.', 'Type of Travel', 'Class', 'Departure Delay in Minutes', 'Flight time in minutes'. "
   ]
  },
  {
   "cell_type": "code",
   "execution_count": 4,
   "metadata": {},
   "outputs": [],
   "source": [
    "dt = dataset.copy()\n",
    "# уберём факторы, не участвующие в анализе\n",
    "dt = dt.drop(['Year of First Flight', '% of Flight with other Airlines', 'No. of other Loyalty Cards', \n",
    "          'Shopping Amount at Airport', 'Eating and Drinking at Airport', 'Day of Month', 'Flight date', 'Airline Code',\n",
    "          'Origin State', 'Orgin City', 'Destination City', 'Destination State', 'Scheduled Departure Hour', 'Age Range',\n",
    "          'No of Flights p.a. grouped', 'Flight Distance', 'Arrival Delay greater 5 Mins', 'Airline Name', 'Flight cancelled'], axis=1)\n",
    "\n",
    "#уберём строки, содержащие некорректные значения Satisfaction\n",
    "dt = dt.drop(dt.index[38897:38900], axis=0)\n",
    "\n",
    "# создадим dummy переменные для категориальных признаков\n",
    "dt = pd.concat([dt, pd.get_dummies(dt['Airline Status']), pd.get_dummies(dt['Gender'])], axis=1, sort=False)\n",
    "dt = pd.concat([dt, pd.get_dummies(dt['Type of Travel']), pd.get_dummies(dt['Class'])], axis=1, sort=False)\n",
    "dt = dt.drop(['Airline Status', 'Gender', 'Type of Travel', 'Class', 'Female'], axis=1)\n",
    "for column in ['Blue', 'Gold', 'Platinum', 'Silver', 'Male', 'Business travel', \n",
    "               'Mileage tickets', 'Personal Travel', 'Business', 'Eco', 'Eco Plus']:\n",
    "    dt[column] = dt[column].astype('bool')\n",
    "dt['Satisfaction'] = dt['Satisfaction'].astype('float')\n",
    "dt = dt.drop(['Arrival Delay in Minutes', 'Silver', 'Personal Travel', 'Eco'], axis=1)\n",
    "\n",
    "# уберём строки, содержащие дробные значения Satisfaction (таких всего 6)\n",
    "dt = dt.drop(dt[((dt['Satisfaction'] % 1 ) !=0)].index, axis=0)\n",
    "dt = dt.dropna()\n",
    "\n",
    "names = ['Satisfaction', 'Age', 'Price Sensitivity', 'No of Flights p.a.',\n",
    "       'Departure Delay in Minutes', 'Flight time in minutes', 'Blue', 'Gold',\n",
    "       'Platinum', 'Male', 'Business travel', 'Mileage tickets', 'Business','Eco Plus']"
   ]
  },
  {
   "cell_type": "code",
   "execution_count": 5,
   "metadata": {},
   "outputs": [
    {
     "data": {
      "text/html": [
       "<div>\n",
       "<style scoped>\n",
       "    .dataframe tbody tr th:only-of-type {\n",
       "        vertical-align: middle;\n",
       "    }\n",
       "\n",
       "    .dataframe tbody tr th {\n",
       "        vertical-align: top;\n",
       "    }\n",
       "\n",
       "    .dataframe thead th {\n",
       "        text-align: right;\n",
       "    }\n",
       "</style>\n",
       "<table border=\"1\" class=\"dataframe\">\n",
       "  <thead>\n",
       "    <tr style=\"text-align: right;\">\n",
       "      <th></th>\n",
       "      <th>Satisfaction</th>\n",
       "      <th>Age</th>\n",
       "      <th>Price Sensitivity</th>\n",
       "      <th>No of Flights p.a.</th>\n",
       "      <th>Departure Delay in Minutes</th>\n",
       "      <th>Flight time in minutes</th>\n",
       "    </tr>\n",
       "  </thead>\n",
       "  <tbody>\n",
       "    <tr>\n",
       "      <th>count</th>\n",
       "      <td>127143.000000</td>\n",
       "      <td>127143.000000</td>\n",
       "      <td>127143.000000</td>\n",
       "      <td>127143.000000</td>\n",
       "      <td>127143.000000</td>\n",
       "      <td>127143.000000</td>\n",
       "    </tr>\n",
       "    <tr>\n",
       "      <th>mean</th>\n",
       "      <td>3.384292</td>\n",
       "      <td>46.162455</td>\n",
       "      <td>1.274966</td>\n",
       "      <td>20.049687</td>\n",
       "      <td>14.913350</td>\n",
       "      <td>111.515207</td>\n",
       "    </tr>\n",
       "    <tr>\n",
       "      <th>std</th>\n",
       "      <td>0.966562</td>\n",
       "      <td>17.262393</td>\n",
       "      <td>0.546174</td>\n",
       "      <td>14.350686</td>\n",
       "      <td>38.228314</td>\n",
       "      <td>71.777375</td>\n",
       "    </tr>\n",
       "    <tr>\n",
       "      <th>min</th>\n",
       "      <td>1.000000</td>\n",
       "      <td>15.000000</td>\n",
       "      <td>0.000000</td>\n",
       "      <td>0.000000</td>\n",
       "      <td>0.000000</td>\n",
       "      <td>8.000000</td>\n",
       "    </tr>\n",
       "    <tr>\n",
       "      <th>25%</th>\n",
       "      <td>3.000000</td>\n",
       "      <td>33.000000</td>\n",
       "      <td>1.000000</td>\n",
       "      <td>8.716876</td>\n",
       "      <td>0.000000</td>\n",
       "      <td>59.000000</td>\n",
       "    </tr>\n",
       "    <tr>\n",
       "      <th>50%</th>\n",
       "      <td>4.000000</td>\n",
       "      <td>45.000000</td>\n",
       "      <td>1.000000</td>\n",
       "      <td>17.294282</td>\n",
       "      <td>0.000000</td>\n",
       "      <td>92.000000</td>\n",
       "    </tr>\n",
       "    <tr>\n",
       "      <th>75%</th>\n",
       "      <td>4.000000</td>\n",
       "      <td>58.000000</td>\n",
       "      <td>2.000000</td>\n",
       "      <td>28.730823</td>\n",
       "      <td>13.000000</td>\n",
       "      <td>142.000000</td>\n",
       "    </tr>\n",
       "    <tr>\n",
       "      <th>max</th>\n",
       "      <td>5.000000</td>\n",
       "      <td>85.000000</td>\n",
       "      <td>5.000000</td>\n",
       "      <td>100.000000</td>\n",
       "      <td>1592.000000</td>\n",
       "      <td>669.000000</td>\n",
       "    </tr>\n",
       "  </tbody>\n",
       "</table>\n",
       "</div>"
      ],
      "text/plain": [
       "        Satisfaction            Age  Price Sensitivity  No of Flights p.a.  \\\n",
       "count  127143.000000  127143.000000      127143.000000       127143.000000   \n",
       "mean        3.384292      46.162455           1.274966           20.049687   \n",
       "std         0.966562      17.262393           0.546174           14.350686   \n",
       "min         1.000000      15.000000           0.000000            0.000000   \n",
       "25%         3.000000      33.000000           1.000000            8.716876   \n",
       "50%         4.000000      45.000000           1.000000           17.294282   \n",
       "75%         4.000000      58.000000           2.000000           28.730823   \n",
       "max         5.000000      85.000000           5.000000          100.000000   \n",
       "\n",
       "       Departure Delay in Minutes  Flight time in minutes  \n",
       "count               127143.000000           127143.000000  \n",
       "mean                    14.913350              111.515207  \n",
       "std                     38.228314               71.777375  \n",
       "min                      0.000000                8.000000  \n",
       "25%                      0.000000               59.000000  \n",
       "50%                      0.000000               92.000000  \n",
       "75%                     13.000000              142.000000  \n",
       "max                   1592.000000              669.000000  "
      ]
     },
     "execution_count": 5,
     "metadata": {},
     "output_type": "execute_result"
    }
   ],
   "source": [
    "dt.describe()"
   ]
  },
  {
   "cell_type": "code",
   "execution_count": 6,
   "metadata": {},
   "outputs": [
    {
     "data": {
      "text/html": [
       "<div>\n",
       "<style scoped>\n",
       "    .dataframe tbody tr th:only-of-type {\n",
       "        vertical-align: middle;\n",
       "    }\n",
       "\n",
       "    .dataframe tbody tr th {\n",
       "        vertical-align: top;\n",
       "    }\n",
       "\n",
       "    .dataframe thead th {\n",
       "        text-align: right;\n",
       "    }\n",
       "</style>\n",
       "<table border=\"1\" class=\"dataframe\">\n",
       "  <thead>\n",
       "    <tr style=\"text-align: right;\">\n",
       "      <th></th>\n",
       "      <th>Blue</th>\n",
       "      <th>Gold</th>\n",
       "      <th>Platinum</th>\n",
       "      <th>Male</th>\n",
       "      <th>Business travel</th>\n",
       "      <th>Mileage tickets</th>\n",
       "      <th>Business</th>\n",
       "      <th>Eco Plus</th>\n",
       "    </tr>\n",
       "  </thead>\n",
       "  <tbody>\n",
       "    <tr>\n",
       "      <th>count</th>\n",
       "      <td>127143</td>\n",
       "      <td>127143</td>\n",
       "      <td>127143</td>\n",
       "      <td>127143</td>\n",
       "      <td>127143</td>\n",
       "      <td>127143</td>\n",
       "      <td>127143</td>\n",
       "      <td>127143</td>\n",
       "    </tr>\n",
       "    <tr>\n",
       "      <th>unique</th>\n",
       "      <td>2</td>\n",
       "      <td>2</td>\n",
       "      <td>2</td>\n",
       "      <td>2</td>\n",
       "      <td>2</td>\n",
       "      <td>2</td>\n",
       "      <td>2</td>\n",
       "      <td>2</td>\n",
       "    </tr>\n",
       "    <tr>\n",
       "      <th>top</th>\n",
       "      <td>True</td>\n",
       "      <td>False</td>\n",
       "      <td>False</td>\n",
       "      <td>False</td>\n",
       "      <td>True</td>\n",
       "      <td>False</td>\n",
       "      <td>False</td>\n",
       "      <td>False</td>\n",
       "    </tr>\n",
       "    <tr>\n",
       "      <th>freq</th>\n",
       "      <td>86848</td>\n",
       "      <td>116473</td>\n",
       "      <td>123052</td>\n",
       "      <td>71683</td>\n",
       "      <td>78379</td>\n",
       "      <td>117326</td>\n",
       "      <td>116691</td>\n",
       "      <td>113827</td>\n",
       "    </tr>\n",
       "  </tbody>\n",
       "</table>\n",
       "</div>"
      ],
      "text/plain": [
       "          Blue    Gold Platinum    Male Business travel Mileage tickets  \\\n",
       "count   127143  127143   127143  127143          127143          127143   \n",
       "unique       2       2        2       2               2               2   \n",
       "top       True   False    False   False            True           False   \n",
       "freq     86848  116473   123052   71683           78379          117326   \n",
       "\n",
       "       Business Eco Plus  \n",
       "count    127143   127143  \n",
       "unique        2        2  \n",
       "top       False    False  \n",
       "freq     116691   113827  "
      ]
     },
     "execution_count": 6,
     "metadata": {},
     "output_type": "execute_result"
    }
   ],
   "source": [
    "dt.describe(include=['object', 'bool'])"
   ]
  },
  {
   "cell_type": "code",
   "execution_count": 9,
   "metadata": {},
   "outputs": [
    {
     "data": {
      "image/png": "[encoded data removed]",
      "text/plain": [
       "<Figure size 1080x648 with 6 Axes>"
      ]
     },
     "metadata": {},
     "output_type": "display_data"
    }
   ],
   "source": [
    "dt[['Satisfaction', 'Age', 'Price Sensitivity', 'No of Flights p.a.',\n",
    "       'Departure Delay in Minutes', 'Flight time in minutes', ]].hist();"
   ]
  },
  {
   "cell_type": "code",
   "execution_count": 10,
   "metadata": {
    "scrolled": false
   },
   "outputs": [
    {
     "data": {
      "image/png": "[encoded data removed]",
      "text/plain": [
       "<Figure size 1080x648 with 1 Axes>"
      ]
     },
     "metadata": {},
     "output_type": "display_data"
    }
   ],
   "source": [
    "dt[\"Satisfaction\"].plot(\"kde\", xlim=(dt[\"Satisfaction\"].min(), dt[\"Satisfaction\"].max()));"
   ]
  },
  {
   "cell_type": "code",
   "execution_count": 11,
   "metadata": {},
   "outputs": [
    {
     "data": {
      "image/png": "[encoded data removed]",
      "text/plain": [
       "<Figure size 1080x648 with 1 Axes>"
      ]
     },
     "metadata": {},
     "output_type": "display_data"
    }
   ],
   "source": [
    "fig = dt[[\"Satisfaction\", \"Male\"]].pivot_table(index=[\"Satisfaction\"], columns=[\"Male\"], aggfunc=len).plot()\n",
    "fig.legend([\"Female\", \"Male\"]);"
   ]
  },
  {
   "cell_type": "code",
   "execution_count": 12,
   "metadata": {},
   "outputs": [
    {
     "name": "stdout",
     "output_type": "stream",
     "text": [
      "0.26116530362052703\n",
      "0.34487489920801195\n"
     ]
    }
   ],
   "source": [
    "print(dt[dt['Male']==1].mean()['Satisfaction'] - dt[dt['Male']==0].mean()['Satisfaction'])\n",
    "print(dt[dt['Male']==1].mean()['Departure Delay in Minutes'] - dt[dt['Male']==0].mean()['Departure Delay in Minutes'])"
   ]
  },
  {
   "cell_type": "markdown",
   "metadata": {},
   "source": [
    "В среднем клиенты мужского пола оценивают свою удовлетворённость от услуг авиакомпании на 0,26 баллов (из 5) выше, чем женщины. При этом средняя длительность задержки рейса у мужчин на 0,34 минуты больше. "
   ]
  },
  {
   "cell_type": "code",
   "execution_count": 13,
   "metadata": {},
   "outputs": [
    {
     "data": {
      "text/html": [
       "<div>\n",
       "<style scoped>\n",
       "    .dataframe tbody tr th:only-of-type {\n",
       "        vertical-align: middle;\n",
       "    }\n",
       "\n",
       "    .dataframe tbody tr th {\n",
       "        vertical-align: top;\n",
       "    }\n",
       "\n",
       "    .dataframe thead th {\n",
       "        text-align: right;\n",
       "    }\n",
       "</style>\n",
       "<table border=\"1\" class=\"dataframe\">\n",
       "  <thead>\n",
       "    <tr style=\"text-align: right;\">\n",
       "      <th></th>\n",
       "      <th>Satisfaction</th>\n",
       "      <th>Age</th>\n",
       "      <th>Price Sensitivity</th>\n",
       "      <th>No of Flights p.a.</th>\n",
       "      <th>Departure Delay in Minutes</th>\n",
       "      <th>Flight time in minutes</th>\n",
       "      <th>Blue</th>\n",
       "      <th>Gold</th>\n",
       "      <th>Platinum</th>\n",
       "      <th>Male</th>\n",
       "      <th>Business travel</th>\n",
       "      <th>Mileage tickets</th>\n",
       "      <th>Business</th>\n",
       "      <th>Eco Plus</th>\n",
       "    </tr>\n",
       "  </thead>\n",
       "  <tbody>\n",
       "    <tr>\n",
       "      <th>Satisfaction</th>\n",
       "      <td>1.000000</td>\n",
       "      <td>-0.221987</td>\n",
       "      <td>-0.088288</td>\n",
       "      <td>-0.238801</td>\n",
       "      <td>-0.073379</td>\n",
       "      <td>-0.003736</td>\n",
       "      <td>-0.338640</td>\n",
       "      <td>0.114974</td>\n",
       "      <td>0.052008</td>\n",
       "      <td>0.133996</td>\n",
       "      <td>0.521134</td>\n",
       "      <td>0.046898</td>\n",
       "      <td>0.046700</td>\n",
       "      <td>-0.022063</td>\n",
       "    </tr>\n",
       "    <tr>\n",
       "      <th>Age</th>\n",
       "      <td>-0.221987</td>\n",
       "      <td>1.000000</td>\n",
       "      <td>-0.067263</td>\n",
       "      <td>0.245750</td>\n",
       "      <td>0.000553</td>\n",
       "      <td>-0.001213</td>\n",
       "      <td>-0.020073</td>\n",
       "      <td>0.042816</td>\n",
       "      <td>0.040695</td>\n",
       "      <td>-0.041800</td>\n",
       "      <td>-0.267658</td>\n",
       "      <td>-0.095799</td>\n",
       "      <td>-0.012038</td>\n",
       "      <td>0.018166</td>\n",
       "    </tr>\n",
       "    <tr>\n",
       "      <th>Price Sensitivity</th>\n",
       "      <td>-0.088288</td>\n",
       "      <td>-0.067263</td>\n",
       "      <td>1.000000</td>\n",
       "      <td>0.011125</td>\n",
       "      <td>-0.001037</td>\n",
       "      <td>0.003425</td>\n",
       "      <td>0.091420</td>\n",
       "      <td>-0.044868</td>\n",
       "      <td>-0.037937</td>\n",
       "      <td>-0.019938</td>\n",
       "      <td>-0.100562</td>\n",
       "      <td>0.040821</td>\n",
       "      <td>-0.002776</td>\n",
       "      <td>-0.039525</td>\n",
       "    </tr>\n",
       "    <tr>\n",
       "      <th>No of Flights p.a.</th>\n",
       "      <td>-0.238801</td>\n",
       "      <td>0.245750</td>\n",
       "      <td>0.011125</td>\n",
       "      <td>1.000000</td>\n",
       "      <td>-0.000970</td>\n",
       "      <td>-0.000739</td>\n",
       "      <td>0.146221</td>\n",
       "      <td>-0.071033</td>\n",
       "      <td>-0.050043</td>\n",
       "      <td>0.071409</td>\n",
       "      <td>-0.292984</td>\n",
       "      <td>0.042274</td>\n",
       "      <td>-0.006961</td>\n",
       "      <td>-0.076460</td>\n",
       "    </tr>\n",
       "    <tr>\n",
       "      <th>Departure Delay in Minutes</th>\n",
       "      <td>-0.073379</td>\n",
       "      <td>0.000553</td>\n",
       "      <td>-0.001037</td>\n",
       "      <td>-0.000970</td>\n",
       "      <td>1.000000</td>\n",
       "      <td>0.005792</td>\n",
       "      <td>0.001654</td>\n",
       "      <td>-0.000628</td>\n",
       "      <td>-0.001636</td>\n",
       "      <td>0.004474</td>\n",
       "      <td>0.001064</td>\n",
       "      <td>0.004893</td>\n",
       "      <td>0.002555</td>\n",
       "      <td>-0.004540</td>\n",
       "    </tr>\n",
       "    <tr>\n",
       "      <th>Flight time in minutes</th>\n",
       "      <td>-0.003736</td>\n",
       "      <td>-0.001213</td>\n",
       "      <td>0.003425</td>\n",
       "      <td>-0.000739</td>\n",
       "      <td>0.005792</td>\n",
       "      <td>1.000000</td>\n",
       "      <td>0.002832</td>\n",
       "      <td>0.001096</td>\n",
       "      <td>0.000728</td>\n",
       "      <td>0.005937</td>\n",
       "      <td>-0.000797</td>\n",
       "      <td>0.002099</td>\n",
       "      <td>0.002122</td>\n",
       "      <td>-0.002148</td>\n",
       "    </tr>\n",
       "    <tr>\n",
       "      <th>Blue</th>\n",
       "      <td>-0.338640</td>\n",
       "      <td>-0.020073</td>\n",
       "      <td>0.091420</td>\n",
       "      <td>0.146221</td>\n",
       "      <td>0.001654</td>\n",
       "      <td>0.002832</td>\n",
       "      <td>1.000000</td>\n",
       "      <td>-0.444349</td>\n",
       "      <td>-0.267685</td>\n",
       "      <td>-0.025710</td>\n",
       "      <td>-0.152916</td>\n",
       "      <td>0.053466</td>\n",
       "      <td>-0.018800</td>\n",
       "      <td>0.035949</td>\n",
       "    </tr>\n",
       "    <tr>\n",
       "      <th>Gold</th>\n",
       "      <td>0.114974</td>\n",
       "      <td>0.042816</td>\n",
       "      <td>-0.044868</td>\n",
       "      <td>-0.071033</td>\n",
       "      <td>-0.000628</td>\n",
       "      <td>0.001096</td>\n",
       "      <td>-0.444349</td>\n",
       "      <td>1.000000</td>\n",
       "      <td>-0.055187</td>\n",
       "      <td>-0.010254</td>\n",
       "      <td>0.064833</td>\n",
       "      <td>-0.027721</td>\n",
       "      <td>0.009486</td>\n",
       "      <td>-0.014590</td>\n",
       "    </tr>\n",
       "    <tr>\n",
       "      <th>Platinum</th>\n",
       "      <td>0.052008</td>\n",
       "      <td>0.040695</td>\n",
       "      <td>-0.037937</td>\n",
       "      <td>-0.050043</td>\n",
       "      <td>-0.001636</td>\n",
       "      <td>0.000728</td>\n",
       "      <td>-0.267685</td>\n",
       "      <td>-0.055187</td>\n",
       "      <td>1.000000</td>\n",
       "      <td>0.066013</td>\n",
       "      <td>0.060226</td>\n",
       "      <td>-0.019348</td>\n",
       "      <td>0.009686</td>\n",
       "      <td>-0.024083</td>\n",
       "    </tr>\n",
       "    <tr>\n",
       "      <th>Male</th>\n",
       "      <td>0.133996</td>\n",
       "      <td>-0.041800</td>\n",
       "      <td>-0.019938</td>\n",
       "      <td>0.071409</td>\n",
       "      <td>0.004474</td>\n",
       "      <td>0.005937</td>\n",
       "      <td>-0.025710</td>\n",
       "      <td>-0.010254</td>\n",
       "      <td>0.066013</td>\n",
       "      <td>1.000000</td>\n",
       "      <td>0.115267</td>\n",
       "      <td>0.010565</td>\n",
       "      <td>0.025453</td>\n",
       "      <td>-0.139403</td>\n",
       "    </tr>\n",
       "    <tr>\n",
       "      <th>Business travel</th>\n",
       "      <td>0.521134</td>\n",
       "      <td>-0.267658</td>\n",
       "      <td>-0.100562</td>\n",
       "      <td>-0.292984</td>\n",
       "      <td>0.001064</td>\n",
       "      <td>-0.000797</td>\n",
       "      <td>-0.152916</td>\n",
       "      <td>0.064833</td>\n",
       "      <td>0.060226</td>\n",
       "      <td>0.115267</td>\n",
       "      <td>1.000000</td>\n",
       "      <td>-0.366727</td>\n",
       "      <td>0.037849</td>\n",
       "      <td>-0.015627</td>\n",
       "    </tr>\n",
       "    <tr>\n",
       "      <th>Mileage tickets</th>\n",
       "      <td>0.046898</td>\n",
       "      <td>-0.095799</td>\n",
       "      <td>0.040821</td>\n",
       "      <td>0.042274</td>\n",
       "      <td>0.004893</td>\n",
       "      <td>0.002099</td>\n",
       "      <td>0.053466</td>\n",
       "      <td>-0.027721</td>\n",
       "      <td>-0.019348</td>\n",
       "      <td>0.010565</td>\n",
       "      <td>-0.366727</td>\n",
       "      <td>1.000000</td>\n",
       "      <td>-0.007941</td>\n",
       "      <td>0.001332</td>\n",
       "    </tr>\n",
       "    <tr>\n",
       "      <th>Business</th>\n",
       "      <td>0.046700</td>\n",
       "      <td>-0.012038</td>\n",
       "      <td>-0.002776</td>\n",
       "      <td>-0.006961</td>\n",
       "      <td>0.002555</td>\n",
       "      <td>0.002122</td>\n",
       "      <td>-0.018800</td>\n",
       "      <td>0.009486</td>\n",
       "      <td>0.009686</td>\n",
       "      <td>0.025453</td>\n",
       "      <td>0.037849</td>\n",
       "      <td>-0.007941</td>\n",
       "      <td>1.000000</td>\n",
       "      <td>-0.102364</td>\n",
       "    </tr>\n",
       "    <tr>\n",
       "      <th>Eco Plus</th>\n",
       "      <td>-0.022063</td>\n",
       "      <td>0.018166</td>\n",
       "      <td>-0.039525</td>\n",
       "      <td>-0.076460</td>\n",
       "      <td>-0.004540</td>\n",
       "      <td>-0.002148</td>\n",
       "      <td>0.035949</td>\n",
       "      <td>-0.014590</td>\n",
       "      <td>-0.024083</td>\n",
       "      <td>-0.139403</td>\n",
       "      <td>-0.015627</td>\n",
       "      <td>0.001332</td>\n",
       "      <td>-0.102364</td>\n",
       "      <td>1.000000</td>\n",
       "    </tr>\n",
       "  </tbody>\n",
       "</table>\n",
       "</div>"
      ],
      "text/plain": [
       "                            Satisfaction       Age  Price Sensitivity  \\\n",
       "Satisfaction                    1.000000 -0.221987          -0.088288   \n",
       "Age                            -0.221987  1.000000          -0.067263   \n",
       "Price Sensitivity              -0.088288 -0.067263           1.000000   \n",
       "No of Flights p.a.             -0.238801  0.245750           0.011125   \n",
       "Departure Delay in Minutes     -0.073379  0.000553          -0.001037   \n",
       "Flight time in minutes         -0.003736 -0.001213           0.003425   \n",
       "Blue                           -0.338640 -0.020073           0.091420   \n",
       "Gold                            0.114974  0.042816          -0.044868   \n",
       "Platinum                        0.052008  0.040695          -0.037937   \n",
       "Male                            0.133996 -0.041800          -0.019938   \n",
       "Business travel                 0.521134 -0.267658          -0.100562   \n",
       "Mileage tickets                 0.046898 -0.095799           0.040821   \n",
       "Business                        0.046700 -0.012038          -0.002776   \n",
       "Eco Plus                       -0.022063  0.018166          -0.039525   \n",
       "\n",
       "                            No of Flights p.a.  Departure Delay in Minutes  \\\n",
       "Satisfaction                         -0.238801                   -0.073379   \n",
       "Age                                   0.245750                    0.000553   \n",
       "Price Sensitivity                     0.011125                   -0.001037   \n",
       "No of Flights p.a.                    1.000000                   -0.000970   \n",
       "Departure Delay in Minutes           -0.000970                    1.000000   \n",
       "Flight time in minutes               -0.000739                    0.005792   \n",
       "Blue                                  0.146221                    0.001654   \n",
       "Gold                                 -0.071033                   -0.000628   \n",
       "Platinum                             -0.050043                   -0.001636   \n",
       "Male                                  0.071409                    0.004474   \n",
       "Business travel                      -0.292984                    0.001064   \n",
       "Mileage tickets                       0.042274                    0.004893   \n",
       "Business                             -0.006961                    0.002555   \n",
       "Eco Plus                             -0.076460                   -0.004540   \n",
       "\n",
       "                            Flight time in minutes      Blue      Gold  \\\n",
       "Satisfaction                             -0.003736 -0.338640  0.114974   \n",
       "Age                                      -0.001213 -0.020073  0.042816   \n",
       "Price Sensitivity                         0.003425  0.091420 -0.044868   \n",
       "No of Flights p.a.                       -0.000739  0.146221 -0.071033   \n",
       "Departure Delay in Minutes                0.005792  0.001654 -0.000628   \n",
       "Flight time in minutes                    1.000000  0.002832  0.001096   \n",
       "Blue                                      0.002832  1.000000 -0.444349   \n",
       "Gold                                      0.001096 -0.444349  1.000000   \n",
       "Platinum                                  0.000728 -0.267685 -0.055187   \n",
       "Male                                      0.005937 -0.025710 -0.010254   \n",
       "Business travel                          -0.000797 -0.152916  0.064833   \n",
       "Mileage tickets                           0.002099  0.053466 -0.027721   \n",
       "Business                                  0.002122 -0.018800  0.009486   \n",
       "Eco Plus                                 -0.002148  0.035949 -0.014590   \n",
       "\n",
       "                            Platinum      Male  Business travel  \\\n",
       "Satisfaction                0.052008  0.133996         0.521134   \n",
       "Age                         0.040695 -0.041800        -0.267658   \n",
       "Price Sensitivity          -0.037937 -0.019938        -0.100562   \n",
       "No of Flights p.a.         -0.050043  0.071409        -0.292984   \n",
       "Departure Delay in Minutes -0.001636  0.004474         0.001064   \n",
       "Flight time in minutes      0.000728  0.005937        -0.000797   \n",
       "Blue                       -0.267685 -0.025710        -0.152916   \n",
       "Gold                       -0.055187 -0.010254         0.064833   \n",
       "Platinum                    1.000000  0.066013         0.060226   \n",
       "Male                        0.066013  1.000000         0.115267   \n",
       "Business travel             0.060226  0.115267         1.000000   \n",
       "Mileage tickets            -0.019348  0.010565        -0.366727   \n",
       "Business                    0.009686  0.025453         0.037849   \n",
       "Eco Plus                   -0.024083 -0.139403        -0.015627   \n",
       "\n",
       "                            Mileage tickets  Business  Eco Plus  \n",
       "Satisfaction                       0.046898  0.046700 -0.022063  \n",
       "Age                               -0.095799 -0.012038  0.018166  \n",
       "Price Sensitivity                  0.040821 -0.002776 -0.039525  \n",
       "No of Flights p.a.                 0.042274 -0.006961 -0.076460  \n",
       "Departure Delay in Minutes         0.004893  0.002555 -0.004540  \n",
       "Flight time in minutes             0.002099  0.002122 -0.002148  \n",
       "Blue                               0.053466 -0.018800  0.035949  \n",
       "Gold                              -0.027721  0.009486 -0.014590  \n",
       "Platinum                          -0.019348  0.009686 -0.024083  \n",
       "Male                               0.010565  0.025453 -0.139403  \n",
       "Business travel                   -0.366727  0.037849 -0.015627  \n",
       "Mileage tickets                    1.000000 -0.007941  0.001332  \n",
       "Business                          -0.007941  1.000000 -0.102364  \n",
       "Eco Plus                           0.001332 -0.102364  1.000000  "
      ]
     },
     "execution_count": 13,
     "metadata": {},
     "output_type": "execute_result"
    }
   ],
   "source": [
    "dt.corr()"
   ]
  },
  {
   "cell_type": "code",
   "execution_count": 14,
   "metadata": {},
   "outputs": [
    {
     "name": "stdout",
     "output_type": "stream",
     "text": [
      "Satisfaction  Business travel    0.521134\n",
      "dtype: float64\n"
     ]
    }
   ],
   "source": [
    "c = dt.corr().abs()\n",
    "s = c.unstack()\n",
    "so = s.sort_values(kind=\"quicksort\", na_position='first')\n",
    "print(so[-15:-14])"
   ]
  },
  {
   "cell_type": "markdown",
   "metadata": {},
   "source": [
    "Согласно коэффициенту корреляции, наибольшая взаимосвязь наблюдается между удовлетворённостью клиента и тем фактом, что он путешествует по бизнесу. Связь прямая, что подразумевает: бизнес-пассажиры более удовлетворены, чем иные группы (Personal Travel и Mileage tickets). Проверим гипотезу, что влияние Business travel на удовлетворённость клиента является статистически значимым:"
   ]
  },
  {
   "cell_type": "code",
   "execution_count": 15,
   "metadata": {},
   "outputs": [
    {
     "data": {
      "text/plain": [
       "Power_divergenceResult(statistic=295703.1, pvalue=0.0)"
      ]
     },
     "execution_count": 15,
     "metadata": {},
     "output_type": "execute_result"
    }
   ],
   "source": [
    "# Н0: влияние Business travel на удовлетворённость клиента является статистически значимым. (отвергается)\n",
    "scipy.stats.chisquare(dt['Business travel'], dt['Satisfaction'])"
   ]
  },
  {
   "cell_type": "markdown",
   "metadata": {},
   "source": [
    "Гипотеза отвергается (при α=0.05). "
   ]
  },
  {
   "cell_type": "markdown",
   "metadata": {},
   "source": [
    "## Gradient Boosting"
   ]
  },
  {
   "cell_type": "markdown",
   "metadata": {},
   "source": [
    "Построим модель для выявления множественных взаимосвязей внутри данных. Модель основана на градиентном бустинге. Разделим данные на тренировочную и тестовую выборки, а также на предикторы и прогнозируемое значение - удовлетворённость."
   ]
  },
  {
   "cell_type": "code",
   "execution_count": 16,
   "metadata": {},
   "outputs": [],
   "source": [
    "X = dt.iloc[:, 1:].values\n",
    "y = dt.iloc[:, 0].values\n",
    "\n",
    "from sklearn import model_selection\n",
    "from sklearn.model_selection import train_test_split\n",
    "X_train, X_test, y_train, y_test = train_test_split(X, y, test_size = 1/3, random_state = 0)"
   ]
  },
  {
   "cell_type": "markdown",
   "metadata": {},
   "source": [
    "Обучим алгоритм и проверим долю правильных ответов, а также проведём кросс-валидацию."
   ]
  },
  {
   "cell_type": "code",
   "execution_count": 17,
   "metadata": {},
   "outputs": [
    {
     "name": "stdout",
     "output_type": "stream",
     "text": [
      "Доля правильных ответов на обучающей выборке: 0.6\n",
      "Доля правильных ответов на тестовой выборке: 0.586\n",
      "Средний результат кросс-валидации: 0.59\n"
     ]
    }
   ],
   "source": [
    "from sklearn.ensemble import GradientBoostingClassifier\n",
    "modelGB = GradientBoostingClassifier(n_estimators=150)\n",
    "modelGB.fit(X_train, y_train)\n",
    "print(\"Доля правильных ответов на обучающей выборке:\", \n",
    "      round(modelGB.score(X_train, y_train), 3))\n",
    "print(\"Доля правильных ответов на тестовой выборке:\", \n",
    "      round(modelGB.score(X_test, y_test), 3))\n",
    "results = model_selection.cross_val_score(modelGB, X_train, y_train, cv=3)\n",
    "print(\"Средний результат кросс-валидации:\", \n",
    "      round(results.mean(), 3))"
   ]
  },
  {
   "cell_type": "markdown",
   "metadata": {},
   "source": [
    "Полученная точность предсказаний является сравнительно низкой и не позволяет использовать модель для достоверного прогнозирования. Однако рассмотрим выявленные взаимосвязи и интерпретируем результаты:"
   ]
  },
  {
   "cell_type": "code",
   "execution_count": 18,
   "metadata": {},
   "outputs": [
    {
     "data": {
      "text/html": [
       "\n",
       "    <style>\n",
       "    table.eli5-weights tr:hover {\n",
       "        filter: brightness(85%);\n",
       "    }\n",
       "</style>\n",
       "\n",
       "\n",
       "\n",
       "    \n",
       "\n",
       "    \n",
       "\n",
       "    \n",
       "\n",
       "    \n",
       "\n",
       "    \n",
       "\n",
       "    \n",
       "\n",
       "\n",
       "    \n",
       "\n",
       "    \n",
       "\n",
       "    \n",
       "\n",
       "    \n",
       "\n",
       "    \n",
       "\n",
       "    \n",
       "\n",
       "\n",
       "    \n",
       "\n",
       "    \n",
       "\n",
       "    \n",
       "\n",
       "    \n",
       "\n",
       "    \n",
       "        <table class=\"eli5-weights eli5-feature-importances\" style=\"border-collapse: collapse; border: none; margin-top: 0em; table-layout: auto;\">\n",
       "    <thead>\n",
       "    <tr style=\"border: none;\">\n",
       "        <th style=\"padding: 0 1em 0 0.5em; text-align: right; border: none;\">Weight</th>\n",
       "        <th style=\"padding: 0 0.5em 0 0.5em; text-align: left; border: none;\">Feature</th>\n",
       "    </tr>\n",
       "    </thead>\n",
       "    <tbody>\n",
       "    \n",
       "        <tr style=\"background-color: hsl(120, 100.00%, 80.00%); border: none;\">\n",
       "            <td style=\"padding: 0 1em 0 0.5em; text-align: right; border: none;\">\n",
       "                0.4017\n",
       "                \n",
       "                    &plusmn; 0.2783\n",
       "                \n",
       "            </td>\n",
       "            <td style=\"padding: 0 0.5em 0 0.5em; text-align: left; border: none;\">\n",
       "                Business travel\n",
       "            </td>\n",
       "        </tr>\n",
       "    \n",
       "        <tr style=\"background-color: hsl(120, 100.00%, 89.05%); border: none;\">\n",
       "            <td style=\"padding: 0 1em 0 0.5em; text-align: right; border: none;\">\n",
       "                0.1698\n",
       "                \n",
       "                    &plusmn; 0.2095\n",
       "                \n",
       "            </td>\n",
       "            <td style=\"padding: 0 0.5em 0 0.5em; text-align: left; border: none;\">\n",
       "                Mileage tickets\n",
       "            </td>\n",
       "        </tr>\n",
       "    \n",
       "        <tr style=\"background-color: hsl(120, 100.00%, 89.93%); border: none;\">\n",
       "            <td style=\"padding: 0 1em 0 0.5em; text-align: right; border: none;\">\n",
       "                0.1508\n",
       "                \n",
       "                    &plusmn; 0.2691\n",
       "                \n",
       "            </td>\n",
       "            <td style=\"padding: 0 0.5em 0 0.5em; text-align: left; border: none;\">\n",
       "                Blue\n",
       "            </td>\n",
       "        </tr>\n",
       "    \n",
       "        <tr style=\"background-color: hsl(120, 100.00%, 92.22%); border: none;\">\n",
       "            <td style=\"padding: 0 1em 0 0.5em; text-align: right; border: none;\">\n",
       "                0.1042\n",
       "                \n",
       "                    &plusmn; 0.3577\n",
       "                \n",
       "            </td>\n",
       "            <td style=\"padding: 0 0.5em 0 0.5em; text-align: left; border: none;\">\n",
       "                Age\n",
       "            </td>\n",
       "        </tr>\n",
       "    \n",
       "        <tr style=\"background-color: hsl(120, 100.00%, 94.03%); border: none;\">\n",
       "            <td style=\"padding: 0 1em 0 0.5em; text-align: right; border: none;\">\n",
       "                0.0714\n",
       "                \n",
       "                    &plusmn; 0.3184\n",
       "                \n",
       "            </td>\n",
       "            <td style=\"padding: 0 0.5em 0 0.5em; text-align: left; border: none;\">\n",
       "                Departure Delay in Minutes\n",
       "            </td>\n",
       "        </tr>\n",
       "    \n",
       "        <tr style=\"background-color: hsl(120, 100.00%, 96.82%); border: none;\">\n",
       "            <td style=\"padding: 0 1em 0 0.5em; text-align: right; border: none;\">\n",
       "                0.0290\n",
       "                \n",
       "                    &plusmn; 0.1787\n",
       "                \n",
       "            </td>\n",
       "            <td style=\"padding: 0 0.5em 0 0.5em; text-align: left; border: none;\">\n",
       "                Platinum\n",
       "            </td>\n",
       "        </tr>\n",
       "    \n",
       "        <tr style=\"background-color: hsl(120, 100.00%, 96.92%); border: none;\">\n",
       "            <td style=\"padding: 0 1em 0 0.5em; text-align: right; border: none;\">\n",
       "                0.0277\n",
       "                \n",
       "                    &plusmn; 0.1971\n",
       "                \n",
       "            </td>\n",
       "            <td style=\"padding: 0 0.5em 0 0.5em; text-align: left; border: none;\">\n",
       "                Male\n",
       "            </td>\n",
       "        </tr>\n",
       "    \n",
       "        <tr style=\"background-color: hsl(120, 100.00%, 96.99%); border: none;\">\n",
       "            <td style=\"padding: 0 1em 0 0.5em; text-align: right; border: none;\">\n",
       "                0.0268\n",
       "                \n",
       "                    &plusmn; 0.1936\n",
       "                \n",
       "            </td>\n",
       "            <td style=\"padding: 0 0.5em 0 0.5em; text-align: left; border: none;\">\n",
       "                Gold\n",
       "            </td>\n",
       "        </tr>\n",
       "    \n",
       "        <tr style=\"background-color: hsl(120, 100.00%, 98.49%); border: none;\">\n",
       "            <td style=\"padding: 0 1em 0 0.5em; text-align: right; border: none;\">\n",
       "                0.0100\n",
       "                \n",
       "                    &plusmn; 0.3990\n",
       "                \n",
       "            </td>\n",
       "            <td style=\"padding: 0 0.5em 0 0.5em; text-align: left; border: none;\">\n",
       "                No of Flights p.a.\n",
       "            </td>\n",
       "        </tr>\n",
       "    \n",
       "        <tr style=\"background-color: hsl(120, 100.00%, 99.07%); border: none;\">\n",
       "            <td style=\"padding: 0 1em 0 0.5em; text-align: right; border: none;\">\n",
       "                0.0050\n",
       "                \n",
       "                    &plusmn; 0.3255\n",
       "                \n",
       "            </td>\n",
       "            <td style=\"padding: 0 0.5em 0 0.5em; text-align: left; border: none;\">\n",
       "                Flight time in minutes\n",
       "            </td>\n",
       "        </tr>\n",
       "    \n",
       "        <tr style=\"background-color: hsl(120, 100.00%, 99.59%); border: none;\">\n",
       "            <td style=\"padding: 0 1em 0 0.5em; text-align: right; border: none;\">\n",
       "                0.0016\n",
       "                \n",
       "                    &plusmn; 0.1270\n",
       "                \n",
       "            </td>\n",
       "            <td style=\"padding: 0 0.5em 0 0.5em; text-align: left; border: none;\">\n",
       "                Price Sensitivity\n",
       "            </td>\n",
       "        </tr>\n",
       "    \n",
       "        <tr style=\"background-color: hsl(120, 100.00%, 99.65%); border: none;\">\n",
       "            <td style=\"padding: 0 1em 0 0.5em; text-align: right; border: none;\">\n",
       "                0.0012\n",
       "                \n",
       "                    &plusmn; 0.0805\n",
       "                \n",
       "            </td>\n",
       "            <td style=\"padding: 0 0.5em 0 0.5em; text-align: left; border: none;\">\n",
       "                Business\n",
       "            </td>\n",
       "        </tr>\n",
       "    \n",
       "        <tr style=\"background-color: hsl(120, 100.00%, 99.80%); border: none;\">\n",
       "            <td style=\"padding: 0 1em 0 0.5em; text-align: right; border: none;\">\n",
       "                0.0005\n",
       "                \n",
       "                    &plusmn; 0.0534\n",
       "                \n",
       "            </td>\n",
       "            <td style=\"padding: 0 0.5em 0 0.5em; text-align: left; border: none;\">\n",
       "                Eco Plus\n",
       "            </td>\n",
       "        </tr>\n",
       "    \n",
       "    \n",
       "    </tbody>\n",
       "</table>\n",
       "    \n",
       "\n",
       "    \n",
       "\n",
       "\n",
       "    \n",
       "\n",
       "    \n",
       "\n",
       "    \n",
       "\n",
       "    \n",
       "\n",
       "    \n",
       "\n",
       "    \n",
       "\n",
       "\n",
       "\n"
      ],
      "text/plain": [
       "<IPython.core.display.HTML object>"
      ]
     },
     "execution_count": 18,
     "metadata": {},
     "output_type": "execute_result"
    }
   ],
   "source": [
    "import eli5\n",
    "eli5.show_weights(modelGB, feature_names=names[1:])"
   ]
  },
  {
   "cell_type": "markdown",
   "metadata": {},
   "source": [
    "Наибольшее влияние на полученную модель оказывает переменная Business travel, что в рамках модели означает: принадлежность человека к группе бизнес-пассажиров оказывает значимое влияние на степень его удовлетворённости. То же касается и параметра Mileage tickets: приобретён ли билет за счёт накопленных миль влияет на удовлетворённость пассажира. Описанные связи являются глобальной характеристикой модели, рассмотрим теперь связи на единичных случайных примерах:"
   ]
  },
  {
   "cell_type": "code",
   "execution_count": 19,
   "metadata": {},
   "outputs": [
    {
     "data": {
      "image/png": "[encoded data removed]",
      "text/plain": [
       "<Figure size 1080x648 with 1 Axes>"
      ]
     },
     "metadata": {},
     "output_type": "display_data"
    }
   ],
   "source": [
    "import lime\n",
    "import random\n",
    "random.seed(1)\n",
    "from lime.lime_tabular import LimeTabularExplainer\n",
    "explainer = LimeTabularExplainer(X_train, mode='classification', \n",
    "                                 feature_names=names[1:])\n",
    "exp = explainer.explain_instance(X_test[random.randint(0, len(X_test)),:], modelGB.predict_proba)\n",
    "exp.as_pyplot_figure();"
   ]
  },
  {
   "cell_type": "markdown",
   "metadata": {},
   "source": [
    "Согласно модели, в окрестностях данного примера можно говорить о том, что удовлетворенность клиента значительно возрастёт, если перевести его в категорию бизнес-поездки; возрастёт - если он в категории Blue, если этот билет окажется за накопленные мили. Удовлетворённость снизится, если статус клиента станет Platinum или Gold, если рейс задержат. Удовлетворённость повышается с увеличением возраста пассажира от 58 лет."
   ]
  },
  {
   "cell_type": "code",
   "execution_count": 20,
   "metadata": {},
   "outputs": [
    {
     "data": {
      "image/png": "[encoded data removed]",
      "text/plain": [
       "<Figure size 1080x648 with 1 Axes>"
      ]
     },
     "metadata": {},
     "output_type": "display_data"
    }
   ],
   "source": [
    "random.seed(2)\n",
    "explainer = LimeTabularExplainer(X_train, mode='classification', \n",
    "                                 feature_names=names[1:])\n",
    "exp = explainer.explain_instance(X_test[random.randint(0, len(X_test)),:], modelGB.predict_proba)\n",
    "exp.as_pyplot_figure();"
   ]
  },
  {
   "cell_type": "markdown",
   "metadata": {},
   "source": [
    "Данный пример показывает, что изменение класса бизнес-поездки у пассажира на любой другой вызовет отрицательную реакцию. Пассажир положительно среагирует на изменение типа билета на Mileage tickets и отрицательно - на изменение статуса на Platinum или Gold, любую задержку рейса и старение от 33 лет."
   ]
  },
  {
   "cell_type": "markdown",
   "metadata": {},
   "source": [
    "## Causal Inference"
   ]
  },
  {
   "cell_type": "markdown",
   "metadata": {},
   "source": [
    "Отойдём от модели и проанализируем каузальные связи, имеющиеся в данных. Рассмотрим связь между удовлетворённостью клиентов и фактом бизнес-поездки. Данная связь характеризуется как наиболее сильная согласно парному коэффициенту корреляции (0.521), и имеет наибольший вес в модели градиентного бустинга (вес=0.4017)."
   ]
  },
  {
   "cell_type": "code",
   "execution_count": 21,
   "metadata": {},
   "outputs": [
    {
     "name": "stdout",
     "output_type": "stream",
     "text": [
      "\n",
      "Summary Statistics\n",
      "\n",
      "                     Controls (N_c=48764)       Treated (N_t=78379)             \n",
      "       Variable         Mean         S.d.         Mean         S.d.     Raw-diff\n",
      "--------------------------------------------------------------------------------\n",
      "              Y        2.746        0.860        3.782        0.802        1.036\n",
      "\n",
      "                     Controls (N_c=48764)       Treated (N_t=78379)             \n",
      "       Variable         Mean         S.d.         Mean         S.d.     Nor-diff\n",
      "--------------------------------------------------------------------------------\n",
      "             X0       52.020       20.798       42.518       13.403       -0.543\n",
      "\n"
     ]
    }
   ],
   "source": [
    "Y = dt['Satisfaction'].values\n",
    "D = dt['Business travel'].values\n",
    "X = dt['Age'].values\n",
    "from causalinference import CausalModel\n",
    "causal = CausalModel(Y, D, X)\n",
    "print(causal.summary_stats)"
   ]
  },
  {
   "cell_type": "markdown",
   "metadata": {},
   "source": [
    "Для взаимосвязи параметров \"удовлетворённость\" и \"бизнес-путешествие\" исходная разница составляла 1.036, а с учётом влияния фактора \"возраст\" разница снизилась до 0.988 (на менее 5%). Разницу можно трактовать как величину, на которую изменится удовлетворённость пассажира, при переводе класса поездки в категорию Business travel. Проведём блокинг влияния этого фактора через возраст и посмотрим на изменения:"
   ]
  },
  {
   "cell_type": "code",
   "execution_count": 22,
   "metadata": {},
   "outputs": [
    {
     "name": "stdout",
     "output_type": "stream",
     "text": [
      "\n",
      "Treatment Effect Estimates: Blocking\n",
      "\n",
      "                     Est.       S.e.          z      P>|z|      [95% Conf. int.]\n",
      "--------------------------------------------------------------------------------\n",
      "           ATE      0.885      0.006    157.944      0.000      0.874      0.896\n",
      "           ATC      0.881        nan        nan        nan        nan        nan\n",
      "           ATT      0.888      0.011     81.307      0.000      0.866      0.909\n",
      "\n"
     ]
    }
   ],
   "source": [
    "causal.est_propensity()\n",
    "causal.stratify()\n",
    "causal.est_via_blocking(adj=0)\n",
    "print(causal.estimates)"
   ]
  },
  {
   "cell_type": "markdown",
   "metadata": {},
   "source": [
    "При блокинге разница в удовлетворённости между группами бизнес-путешественников и иных, с учётом возраста, составляет 0.885 (снизилась от исходной на менее 15%). Это говорит об определённом влиянии возраста как на удовлетворённость, так и на принадлежность пассажира к категории Business travel. "
   ]
  },
  {
   "cell_type": "markdown",
   "metadata": {},
   "source": [
    "Вспомним раннее наблюдение: \"В среднем клиенты мужского пола оценивают свою удовлетворённость от услуг авиакомпании на 0,26 баллов (из 5) выше, чем женщины. При этом средняя длительность задержки рейса у мужчин на 0,34 минуты больше\". Проверим его с помощью метода наименьших квадратов. Отследим влияние пола на удовлетворённость с учётом длительности задержки рейса."
   ]
  },
  {
   "cell_type": "code",
   "execution_count": 23,
   "metadata": {},
   "outputs": [
    {
     "name": "stdout",
     "output_type": "stream",
     "text": [
      "\n",
      "Summary Statistics\n",
      "\n",
      "                     Controls (N_c=71683)       Treated (N_t=55460)             \n",
      "       Variable         Mean         S.d.         Mean         S.d.     Raw-diff\n",
      "--------------------------------------------------------------------------------\n",
      "              Y        3.270        0.928        3.532        0.995        0.261\n",
      "\n",
      "                     Controls (N_c=71683)       Treated (N_t=55460)             \n",
      "       Variable         Mean         S.d.         Mean         S.d.     Nor-diff\n",
      "--------------------------------------------------------------------------------\n",
      "             X0       14.763       37.935       15.108       38.604        0.009\n",
      "\n"
     ]
    }
   ],
   "source": [
    "Y = dt['Satisfaction'].values\n",
    "D = dt['Male'].values\n",
    "X = dt['Departure Delay in Minutes'].values\n",
    "causal2 = CausalModel(Y, D, X)\n",
    "print(causal2.summary_stats)"
   ]
  },
  {
   "cell_type": "code",
   "execution_count": 24,
   "metadata": {},
   "outputs": [
    {
     "name": "stdout",
     "output_type": "stream",
     "text": [
      "\n",
      "Treatment Effect Estimates: OLS\n",
      "\n",
      "                     Est.       S.e.          z      P>|z|      [95% Conf. int.]\n",
      "--------------------------------------------------------------------------------\n",
      "           ATE      0.262      0.005     48.038      0.000      0.251      0.272\n",
      "           ATC      0.262      0.005     48.035      0.000      0.251      0.272\n",
      "           ATT      0.262      0.005     48.041      0.000      0.251      0.273\n",
      "\n"
     ]
    }
   ],
   "source": [
    "causal2.est_via_ols()\n",
    "print(causal2.estimates)"
   ]
  },
  {
   "cell_type": "markdown",
   "metadata": {},
   "source": [
    "Исходная разница 0.26 совпадает с нашим наблюдением на основании среднего значения, так как переменная логическая. Мужчины на 0.26 баллов оценивают удовлетворённость выше. Стоит отметить, что при дополнительном учёте длительности задержки рейса разница практически не изменяется. Это означает, что фактор задержки не влияет на связь между полом и удовлетворённостью. "
   ]
  },
  {
   "cell_type": "markdown",
   "metadata": {},
   "source": [
    "## Выводы"
   ]
  },
  {
   "cell_type": "markdown",
   "metadata": {},
   "source": [
    "Результаты: На основе проведённого анализа была установлена взаимосвязь между удовлетворённостью пассажиров и фактом бизнес-поездки. Также замечено, что в среднем мужчины более удовлетворены услугами авиакомпании, на что не влияет задержка рейса. Построенная модель градиентного бустинга указывает на значимое влияние как факта бизнес-поездки, так и параметров Mileage tickets (приобретён ли билет за счёт накопленных миль), Blue (статуса клиента), возраста и длительности задержки рейса. Анализ причинных связей показал определённую связь между удовлетворённостью, фактом бизнес-поездки и возрастом одновременно."
   ]
  },
  {
   "cell_type": "markdown",
   "metadata": {},
   "source": [
    "Практическая ценность полученных знаний заключается в понимании базовых взаимосвязей между удовлетворённостью клиентов и субъективными факторами, которые их описывают. Согласно результатам, объективный фактор - длительность задержки рейса, играет не столь большую роль в оценке качества услуг компании, сколько ряд характеристик того или иного пассажира. Однако это не значит, что самоолёты могут чаще опаздывать без последствий для имиджа компании и лояльности клиентов. "
   ]
  }
 ],
 "metadata": {
  "kernelspec": {
   "display_name": "Python 3",
   "language": "python",
   "name": "python3"
  },
  "language_info": {
   "codemirror_mode": {
    "name": "ipython",
    "version": 3
   },
   "file_extension": ".py",
   "mimetype": "text/x-python",
   "name": "python",
   "nbconvert_exporter": "python",
   "pygments_lexer": "ipython3",
   "version": "3.6.6"
  }
 },
 "nbformat": 4,
 "nbformat_minor": 2
}
